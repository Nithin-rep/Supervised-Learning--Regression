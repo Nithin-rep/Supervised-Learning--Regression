{
 "cells": [
  {
   "cell_type": "code",
   "execution_count": 44,
   "metadata": {},
   "outputs": [],
   "source": [
    "import numpy as np\n",
    "import pandas as pd\n",
    "import matplotlib.pyplot as plt"
   ]
  },
  {
   "cell_type": "code",
   "execution_count": 45,
   "metadata": {},
   "outputs": [
    {
     "name": "stdout",
     "output_type": "stream",
     "text": [
      "done\n",
      "   R&D Spend  Administration  Marketing Spend       State     Profit\n",
      "0  165349.20       136897.80        471784.10    New York  192261.83\n",
      "1  162597.70       151377.59        443898.53  California  191792.06\n",
      "2  153441.51       101145.55        407934.54     Florida  191050.39\n",
      "3  144372.41       118671.85        383199.62    New York  182901.99\n",
      "4  142107.34        91391.77        366168.42     Florida  166187.94\n"
     ]
    }
   ],
   "source": [
    "dataset = pd.read_csv(\"50_Startups.csv\")\n",
    "print(\"done\")\n",
    "print(dataset.head(5))\n",
    "\n",
    "X = dataset.iloc[: , :-1].values\n",
    "Y = dataset.iloc[:, -1].values"
   ]
  },
  {
   "cell_type": "code",
   "execution_count": 46,
   "metadata": {},
   "outputs": [
    {
     "name": "stdout",
     "output_type": "stream",
     "text": [
      "[[0.0 0.0 1.0 165349.2 136897.8 471784.1]\n",
      " [1.0 0.0 0.0 162597.7 151377.59 443898.53]\n",
      " [0.0 1.0 0.0 153441.51 101145.55 407934.54]\n",
      " [0.0 0.0 1.0 144372.41 118671.85 383199.62]\n",
      " [0.0 1.0 0.0 142107.34 91391.77 366168.42]\n",
      " [0.0 0.0 1.0 131876.9 99814.71 362861.36]\n",
      " [1.0 0.0 0.0 134615.46 147198.87 127716.82]\n",
      " [0.0 1.0 0.0 130298.13 145530.06 323876.68]\n",
      " [0.0 0.0 1.0 120542.52 148718.95 311613.29]\n",
      " [1.0 0.0 0.0 123334.88 108679.17 304981.62]\n",
      " [0.0 1.0 0.0 101913.08 110594.11 229160.95]\n",
      " [1.0 0.0 0.0 100671.96 91790.61 249744.55]\n",
      " [0.0 1.0 0.0 93863.75 127320.38 249839.44]\n",
      " [1.0 0.0 0.0 91992.39 135495.07 252664.93]\n",
      " [0.0 1.0 0.0 119943.24 156547.42 256512.92]\n",
      " [0.0 0.0 1.0 114523.61 122616.84 261776.23]\n",
      " [1.0 0.0 0.0 78013.11 121597.55 264346.06]\n",
      " [0.0 0.0 1.0 94657.16 145077.58 282574.31]\n",
      " [0.0 1.0 0.0 91749.16 114175.79 294919.57]\n",
      " [0.0 0.0 1.0 86419.7 153514.11 0.0]\n",
      " [1.0 0.0 0.0 76253.86 113867.3 298664.47]\n",
      " [0.0 0.0 1.0 78389.47 153773.43 299737.29]\n",
      " [0.0 1.0 0.0 73994.56 122782.75 303319.26]\n",
      " [0.0 1.0 0.0 67532.53 105751.03 304768.73]\n",
      " [0.0 0.0 1.0 77044.01 99281.34 140574.81]\n",
      " [1.0 0.0 0.0 64664.71 139553.16 137962.62]\n",
      " [0.0 1.0 0.0 75328.87 144135.98 134050.07]\n",
      " [0.0 0.0 1.0 72107.6 127864.55 353183.81]\n",
      " [0.0 1.0 0.0 66051.52 182645.56 118148.2]\n",
      " [0.0 0.0 1.0 65605.48 153032.06 107138.38]\n",
      " [0.0 1.0 0.0 61994.48 115641.28 91131.24]\n",
      " [0.0 0.0 1.0 61136.38 152701.92 88218.23]\n",
      " [1.0 0.0 0.0 63408.86 129219.61 46085.25]\n",
      " [0.0 1.0 0.0 55493.95 103057.49 214634.81]\n",
      " [1.0 0.0 0.0 46426.07 157693.92 210797.67]\n",
      " [0.0 0.0 1.0 46014.02 85047.44 205517.64]\n",
      " [0.0 1.0 0.0 28663.76 127056.21 201126.82]\n",
      " [1.0 0.0 0.0 44069.95 51283.14 197029.42]\n",
      " [0.0 0.0 1.0 20229.59 65947.93 185265.1]\n",
      " [1.0 0.0 0.0 38558.51 82982.09 174999.3]\n",
      " [1.0 0.0 0.0 28754.33 118546.05 172795.67]\n",
      " [0.0 1.0 0.0 27892.92 84710.77 164470.71]\n",
      " [1.0 0.0 0.0 23640.93 96189.63 148001.11]\n",
      " [0.0 0.0 1.0 15505.73 127382.3 35534.17]\n",
      " [1.0 0.0 0.0 22177.74 154806.14 28334.72]\n",
      " [0.0 0.0 1.0 1000.23 124153.04 1903.93]\n",
      " [0.0 1.0 0.0 1315.46 115816.21 297114.46]\n",
      " [1.0 0.0 0.0 0.0 135426.92 0.0]\n",
      " [0.0 0.0 1.0 542.05 51743.15 0.0]\n",
      " [1.0 0.0 0.0 0.0 116983.8 45173.06]]\n"
     ]
    }
   ],
   "source": [
    "from sklearn.preprocessing import OneHotEncoder\n",
    "from sklearn.compose import ColumnTransformer\n",
    "\n",
    "ct = ColumnTransformer(transformers=[(\"encoder\", OneHotEncoder(), [-1])], remainder=\"passthrough\")\n",
    "X = np.array(ct.fit_transform(X)) \n",
    "print(X)"
   ]
  },
  {
   "cell_type": "code",
   "execution_count": 47,
   "metadata": {},
   "outputs": [],
   "source": [
    "from sklearn.model_selection import train_test_split\n",
    "x_train, x_test, y_train, y_test = train_test_split(X, Y,train_size=0.8, random_state=10)"
   ]
  },
  {
   "cell_type": "code",
   "execution_count": 48,
   "metadata": {},
   "outputs": [],
   "source": [
    "from sklearn.preprocessing import StandardScaler\n",
    "sc = StandardScaler()\n",
    "\n",
    "x_train[:, 3:] = sc.fit_transform(x_train[:, 3:])\n",
    "x_test[:, 3:] = sc.transform(x_test[:, 3:])"
   ]
  },
  {
   "cell_type": "code",
   "execution_count": 49,
   "metadata": {},
   "outputs": [],
   "source": [
    "from sklearn.linear_model import LinearRegression\n",
    "from sklearn.preprocessing import PolynomialFeatures\n",
    "from sklearn.svm import SVR\n",
    "from sklearn.tree import DecisionTreeRegressor\n",
    "from sklearn.ensemble import RandomForestRegressor\n",
    "\n",
    "class Models:\n",
    "\n",
    "    def __init__(self) -> None:\n",
    "        pass\n",
    "\n",
    "    def multi_linear(self, x_test, x_train, y_train):\n",
    "        reg = LinearRegression()\n",
    "        reg.fit(x_train, y_train)\n",
    "        return reg.predict(x_test)\n",
    "\n",
    "    def polynomial(self, x_test, x_train, y_train):\n",
    "        pol = PolynomialFeatures(degree=1)\n",
    "        pol_out = pol.fit_transform(x_train)\n",
    "        reg = LinearRegression()\n",
    "        reg.fit(pol_out, y_train)\n",
    "        return reg.predict(pol.transform(x_test))\n",
    "    \n",
    "    def support_vector_regression(self, x_test, x_train, y_train):\n",
    "        reg = SVR()\n",
    "        reg.fit(x_train, y_train)\n",
    "        return reg.predict(x_test)\n",
    "    \n",
    "    def decision_tree(self, x_test, x_train, y_train):\n",
    "        reg = DecisionTreeRegressor(random_state=10)\n",
    "        reg.fit(x_train, y_train)\n",
    "        return reg.predict(x_test)\n",
    "\n",
    "    def random_forest(self, x_test, x_train, y_train):\n",
    "        reg = RandomForestRegressor(n_estimators= 20, random_state=10)\n",
    "        reg.fit(x_train, y_train)\n",
    "        return reg.predict(x_test)"
   ]
  },
  {
   "cell_type": "code",
   "execution_count": 50,
   "metadata": {},
   "outputs": [
    {
     "name": "stdout",
     "output_type": "stream",
     "text": [
      "\n",
      "r2_score is:\n",
      "\n",
      "0.9901105113397772 for multi linear regression\n",
      " 0.990110511339777 for polynomial regression\n",
      " -0.0005303813915229494 for svr\n",
      " 0.9120041185090322 for decision tree\n",
      " 0.9408058832646812 for random forest\n",
      "\n",
      "\n",
      "      y_test   multi_linear     polynomial            svr  decision_tree  \\\n",
      "0   89949.14   89173.727841   89173.727841  107977.961169       96479.51   \n",
      "1  108733.99  110171.901449  110171.901449  107982.168525      110352.25   \n",
      "2   65200.33   65822.477580   65822.477580  107975.425692       78239.91   \n",
      "3   71498.49   70785.211426   70785.211426  107975.135251       77798.83   \n",
      "4   42559.73   47652.126940   47652.126940  107975.169537       14681.40   \n",
      "5  118474.03  116303.596652  116303.596652  107982.921071      110352.25   \n",
      "6  182901.99  172176.280035  172176.280035  107986.379544      166187.94   \n",
      "7   99937.59  100657.062541  100657.062541  107976.965800       97483.56   \n",
      "8  155752.60  160473.252659  160473.252659  107985.814745      156991.12   \n",
      "9  156122.51  158835.622462  158835.622462  107981.445697      141585.52   \n",
      "\n",
      "   random_forest  \n",
      "0     94027.1760  \n",
      "1    108468.9475  \n",
      "2     82717.1085  \n",
      "3     79930.2325  \n",
      "4     30633.0165  \n",
      "5    111758.8380  \n",
      "6    168147.7545  \n",
      "7     98296.4150  \n",
      "8    141905.8355  \n",
      "9    147189.7270  \n"
     ]
    }
   ],
   "source": [
    "regression = Models()\n",
    "\n",
    "y_pred_multi_linear = regression.multi_linear(x_test, x_train, y_train)\n",
    "y_pred_polynomial = regression.polynomial(x_test, x_train, y_train)\n",
    "y_pred_svr = regression.support_vector_regression(x_test, x_train, y_train)\n",
    "y_pred_decision = regression.decision_tree(x_test, x_train, y_train)\n",
    "y_pred_random_forest = regression.random_forest(x_test, x_train, y_train)\n",
    "\n",
    "from sklearn.metrics import r2_score\n",
    "\n",
    "\n",
    "r2_multi_linear = r2_score(y_test, y_pred_multi_linear)\n",
    "r2_polynomial = r2_score(y_test, y_pred_polynomial)\n",
    "r2_svr = r2_score(y_test, y_pred_svr)\n",
    "r2_decision = r2_score(y_test, y_pred_decision)\n",
    "r2_random_forest = r2_score(y_test, y_pred_random_forest)\n",
    "\n",
    "print(\"\\nr2_score is:\\n\\n{} for multi linear regression\\n {} for polynomial regression\\n {} for svr\\n {} for decision tree\\n {} for random forest\\n\\n\".format(r2_multi_linear, r2_polynomial, r2_svr, r2_decision, r2_random_forest))\n",
    "\n",
    "\n",
    "output = np.stack((y_test, y_pred_multi_linear, y_pred_polynomial, y_pred_svr, y_pred_decision, y_pred_random_forest), axis = 1)\n",
    "output = pd.DataFrame(output)\n",
    "output.columns = [\"y_test\", \"multi_linear\", \"polynomial\", \"svr\", \"decision_tree\", \"random_forest\"]\n",
    "print(output)"
   ]
  }
 ],
 "metadata": {
  "kernelspec": {
   "display_name": "base",
   "language": "python",
   "name": "python3"
  },
  "language_info": {
   "codemirror_mode": {
    "name": "ipython",
    "version": 3
   },
   "file_extension": ".py",
   "mimetype": "text/x-python",
   "name": "python",
   "nbconvert_exporter": "python",
   "pygments_lexer": "ipython3",
   "version": "3.9.13"
  },
  "orig_nbformat": 4
 },
 "nbformat": 4,
 "nbformat_minor": 2
}
